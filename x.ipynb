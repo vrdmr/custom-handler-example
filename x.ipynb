{
 "cells": [
  {
   "cell_type": "markdown",
   "metadata": {},
   "source": [
    "# Swagger Petstore - 1.0.0 \n",
    "This is a sample server Petstore server.  You can find out more about Swagger at [http://swagger.io](http://swagger.io) or on [irc.freenode.net, #swagger](http://swagger.io/irc/).  For this sample, you can use the api key `special-key` to test the authorization filters. \n"
   ]
  },
  {
   "cell_type": "code",
   "execution_count": 1,
   "metadata": {},
   "outputs": [
    {
     "name": "stdout",
     "output_type": "stream",
     "text": [
      "zsh:1: /Users/varadmeru/Library/Python/2.7/bin/pip: bad interpreter: /System/Library/Frameworks/Python.framework/Versions/2.7/Resources/Python.app/Contents/MacOS/Python: no such file or directory\n",
      "\u001b[33mDEPRECATION: Configuring installation scheme with distutils config files is deprecated and will no longer work in the near future. If you are using a Homebrew or Linuxbrew Python, please see discussion at https://github.com/Homebrew/homebrew-core/issues/76621\u001b[0m\n",
      "Collecting dicttoxml\n",
      "  Using cached dicttoxml-1.7.4.tar.gz (18 kB)\n",
      "  Preparing metadata (setup.py) ... \u001b[?25ldone\n",
      "\u001b[?25hBuilding wheels for collected packages: dicttoxml\n",
      "  Building wheel for dicttoxml (setup.py) ... \u001b[?25ldone\n",
      "\u001b[?25h  Created wheel for dicttoxml: filename=dicttoxml-1.7.4-py3-none-any.whl size=17464 sha256=86bf5f5e049fa787a1353555ff921821c7d0d4e211c0b4afabdaca50f1774a89\n",
      "  Stored in directory: /Users/varadmeru/Library/Caches/pip/wheels/6d/1c/04/7d4192909f3b9a1ed0eabcb1b139627c7358810bd551427f2e\n",
      "Successfully built dicttoxml\n",
      "Installing collected packages: dicttoxml\n",
      "\u001b[33mDEPRECATION: Configuring installation scheme with distutils config files is deprecated and will no longer work in the near future. If you are using a Homebrew or Linuxbrew Python, please see discussion at https://github.com/Homebrew/homebrew-core/issues/76621\u001b[0m\n",
      "Successfully installed dicttoxml-1.7.4\n",
      "\u001b[33mWARNING: You are using pip version 21.3.1; however, version 22.1.2 is available.\n",
      "You should consider upgrading via the '/usr/local/opt/python@3.9/bin/python3.9 -m pip install --upgrade pip' command.\u001b[0m\n"
     ]
    }
   ],
   "source": [
    "!pip install dicttoxml "
   ]
  },
  {
   "cell_type": "code",
   "execution_count": 4,
   "metadata": {},
   "outputs": [
    {
     "ename": "ModuleNotFoundError",
     "evalue": "No module named 'dicttoxml'",
     "output_type": "error",
     "traceback": [
      "\u001b[0;31m---------------------------------------------------------------------------\u001b[0m",
      "\u001b[0;31mModuleNotFoundError\u001b[0m                       Traceback (most recent call last)",
      "Input \u001b[0;32mIn [4]\u001b[0m, in \u001b[0;36m<cell line: 4>\u001b[0;34m()\u001b[0m\n\u001b[1;32m      1\u001b[0m \u001b[38;5;66;03m# GET /hello/world\u001b[39;00m\n\u001b[1;32m      3\u001b[0m \u001b[38;5;28;01mimport\u001b[39;00m \u001b[38;5;21;01mjson\u001b[39;00m\n\u001b[0;32m----> 4\u001b[0m \u001b[38;5;28;01mfrom\u001b[39;00m \u001b[38;5;21;01mdicttoxml\u001b[39;00m \u001b[38;5;28;01mimport\u001b[39;00m dicttoxml\n",
      "\u001b[0;31mModuleNotFoundError\u001b[0m: No module named 'dicttoxml'"
     ]
    }
   ],
   "source": [
    "# GET /hello/world\n",
    "\n",
    "import json\n",
    "from dicttoxml import dicttoxml"
   ]
  },
  {
   "cell_type": "code",
   "execution_count": 3,
   "metadata": {},
   "outputs": [],
   "source": [
    "PETS = {}\n",
    "PET_STATUS_INDEX = {}\n",
    "TAG_INDEX = {}\n",
    "ORDERS = {}\n",
    "ORDER_STATUS_INDEX = {}\n",
    "JSON = 'application/json'\n",
    "XML = 'application/xml'\n",
    "content_type = JSON"
   ]
  },
  {
   "cell_type": "code",
   "execution_count": null,
   "metadata": {},
   "outputs": [],
   "source": [
    "class MissingField(Exception):\n",
    "    def __init__(self, type_name, field):\n",
    "        self.msg = '{} is missing required field \"{}\"'.format(type_name, field)\n",
    "        \n",
    "        \n",
    "class InvalidValue(Exception):\n",
    "    def __init__(self, name, type_name):\n",
    "        self.msg = '{} is not a {}'.format(name, type_name)\n",
    "        \n",
    "class NotFound(Exception):\n",
    "    def __init__(self, type_name, id):\n",
    "        self.msg = 'There is no {} with id {}'.format(type_name, id)\n",
    "\n",
    "\n",
    "def print_response(content, content_type=JSON):\n",
    "    if content_type == JSON:\n",
    "        print(json.dumps(content))\n",
    "    elif content_type == XML:\n",
    "        print(dicttoxml(content).decode('UTF-8'))\n",
    "\n",
    "def split_query_param(param):\n",
    "    values = []\n",
    "    for paramValue in param:\n",
    "        values += paramValue.split(',')\n",
    "    values = map(lambda x: x.strip(), values)\n",
    "    return list(values)\n",
    "\n",
    "def create_error_response(code, error_type, message):\n",
    "    return {\n",
    "        'code' : code,\n",
    "        'type' : error_type,\n",
    "        'message' : message\n",
    "    }\n",
    "        \n",
    "# Pet APIs\n",
    "def validate_pet(pet):\n",
    "    fields = ['id', 'category', 'name', 'photoUrls', 'tags', 'status']\n",
    "    for field in fields:\n",
    "        if field not in pet:\n",
    "            raise MissingField('Pet', field)\n",
    "            \n",
    "def persist_pet(pet):\n",
    "    validate_pet(pet)\n",
    "    PETS[pet['id']] = pet\n",
    "    index_pet(pet)\n",
    "    return pet\n",
    "\n",
    "\n",
    "def get_pet_by_id(pet_id):\n",
    "    try:\n",
    "        pet_id = int(pet_id)\n",
    "        if not pet_id in PETS:\n",
    "            raise NotFound('Pet', pet_id)\n",
    "        else:\n",
    "            return PETS[pet_id]\n",
    "    except ValueError:\n",
    "        raise InvalidValue('Pet id', 'int')\n",
    "\n",
    "def delete_pet_by_id(pet_id):\n",
    "    try:\n",
    "        pet_id = int(pet_id)\n",
    "        if not pet_id in PETS:\n",
    "            raise NotFound('Pet', pet_id)\n",
    "        else:\n",
    "            pet = PETS[pet_id]\n",
    "            del PETS[pet_id]\n",
    "            return pet\n",
    "    except ValueError:\n",
    "        raise InvalidValue('Pet id', 'int')\n",
    "\n",
    "def index_pet(pet):\n",
    "    # Index the status of the pet\n",
    "    pet_status = pet['status']\n",
    "    if pet_status not in PET_STATUS_INDEX:\n",
    "        PET_STATUS_INDEX[pet_status] = set()\n",
    "    PET_STATUS_INDEX[pet_status].add(pet['id'])\n",
    "    \n",
    "    # index the tags of the pet\n",
    "    for tag in pet['tags']:\n",
    "        tag = tag.strip()\n",
    "        if tag not in STATUS_INDEX:\n",
    "            TAG_INDEX[tag] = set()\n",
    "        TAG_INDEX[tag].add(pet['id'])\n",
    "        \n",
    "def collect_pets_by_id(petIds):\n",
    "    petIds = set(petIds)\n",
    "    petList = []\n",
    "    for petId in petIds:\n",
    "        petList.append(PETS[petId])\n",
    "    return petList\n",
    "\n",
    "# Order APIs\n",
    "def validate_order(order):\n",
    "    fields = ['id', 'petId', 'quantity', 'shipDate', 'status', 'complete']\n",
    "    for field in fields:\n",
    "        if field not in order:\n",
    "            raise MissingField('Order', field)\n",
    "\n",
    "def persist_order(order):\n",
    "    validate_order(order)\n",
    "    ORDERS[order['id']] = order\n",
    "    \n",
    "def get_order_by_id(order_id):\n",
    "    try:\n",
    "        order_id = int(order_id)\n",
    "        if not order_id in ORDERS:\n",
    "            raise NotFound('Order', order_id)\n",
    "        else:\n",
    "            return ORDERS[order_id]\n",
    "    except ValueError:\n",
    "        raise InvalidValue('Order id', 'int')\n",
    "\n",
    "def delete_order_by_id(order_id):\n",
    "    try:\n",
    "        order_id = int(order_id)\n",
    "        if not order_id in ORDERS:\n",
    "            raise NotFound('Order', order_id)\n",
    "        else:\n",
    "            order = ORDERS[order_id]\n",
    "            del ORDERS[order_id]\n",
    "            return order\n",
    "    except ValueError:\n",
    "        raise InvalidValue('Order id', 'int')"
   ]
  },
  {
   "cell_type": "markdown",
   "metadata": {},
   "source": [
    "## POST /pet \n",
    "\n",
    "_Add a new pet to the store_\n",
    "\n",
    "Body Parameters: \n",
    "\n",
    "* body (required) - Pet object that needs to be added to the store\n",
    "\n",
    "\n"
   ]
  },
  {
   "cell_type": "code",
   "execution_count": null,
   "metadata": {},
   "outputs": [],
   "source": [
    "REQUEST = json.dumps({\n",
    "        'body' : {\n",
    "            'id': 1,\n",
    "            'category' : { \n",
    "                'id' : 1,\n",
    "                'name' : 'cat'\n",
    "            },\n",
    "            'name': 'fluffy',\n",
    "            'photoUrls': [],\n",
    "            'tags': ['cat', 'siamese'],\n",
    "            'status': 'available'\n",
    "        }\n",
    "    })"
   ]
  },
  {
   "cell_type": "code",
   "execution_count": null,
   "metadata": {},
   "outputs": [],
   "source": [
    "# POST /pet \n",
    "try:\n",
    "    req = json.loads(REQUEST)\n",
    "    pet = req['body']\n",
    "    persist_pet(pet)\n",
    "    response = pet\n",
    "except MissingField as e:\n",
    "    response = create_error_response(405, 'Invalid Pet', e.msg)\n",
    "except ValueError as e:\n",
    "    response = create_error_response(405, 'Invalid Pet', 'Could not parse json')\n",
    "finally:\n",
    "    print_response(response, content_type)"
   ]
  },
  {
   "cell_type": "markdown",
   "metadata": {},
   "source": [
    "## PUT /pet \n",
    "\n",
    "_Update an existing pet_\n",
    "\n",
    "Body Parameters: \n",
    "\n",
    "* body (required) - Pet object that needs to be added to the store\n",
    "\n",
    "\n"
   ]
  },
  {
   "cell_type": "code",
   "execution_count": null,
   "metadata": {},
   "outputs": [],
   "source": [
    "REQUEST = json.dumps({\n",
    "        'body' : {\n",
    "            'id': 1,\n",
    "            'category' : { \n",
    "                'id' : 1,\n",
    "                'name' : 'cat'\n",
    "            },\n",
    "            'name': 'fluffy',\n",
    "            'photoUrls': [],\n",
    "            'tags': ['cat', 'siamese'],\n",
    "            'status': 'available'\n",
    "        }\n",
    "    })"
   ]
  },
  {
   "cell_type": "code",
   "execution_count": null,
   "metadata": {},
   "outputs": [],
   "source": [
    "# PUT /pet \n",
    "try:\n",
    "    req = json.loads(REQUEST)\n",
    "    new_pet = req['body']\n",
    "    current_pet = get_pet_by_id(new_pet['id'])\n",
    "    persist_pet(new_pet)\n",
    "    response = new_pet\n",
    "except InvalidValue as e:\n",
    "    response = create_error_response(400, 'Invalid ID', e.msg)\n",
    "except ValueError as e:\n",
    "    response = create_error_response(400, 'Invalid Pet', 'Could not parse json')\n",
    "except NotFound as e:\n",
    "    response = create_error_response(404, 'Not Found', e.msg) \n",
    "except MissingField as e:\n",
    "    response = create_error_response(405, 'Invalid Pet', e.msg)\n",
    "finally:\n",
    "    print_response(response, content_type)"
   ]
  },
  {
   "cell_type": "markdown",
   "metadata": {},
   "source": [
    "## GET /pet/findByStatus \n",
    "\n",
    "_Finds Pets by status_\n",
    "\n",
    "Multiple status values can be provided with comma seperated strings \n",
    "\n",
    "Query Parameters: \n",
    "\n",
    "* status (required) - Status values that need to be considered for filter\n",
    "\n",
    "\n"
   ]
  },
  {
   "cell_type": "code",
   "execution_count": null,
   "metadata": {
    "collapsed": true
   },
   "outputs": [],
   "source": [
    "REQUEST = json.dumps({\n",
    "        'args' : {\n",
    "            'status' : ['available , unavailable']\n",
    "        }\n",
    "    })"
   ]
  },
  {
   "cell_type": "code",
   "execution_count": null,
   "metadata": {},
   "outputs": [],
   "source": [
    "# GET /pet/findByStatus \n",
    "req = json.loads(REQUEST)\n",
    "status_list = split_query_param(req['args']['status'])\n",
    "pet_ids = []\n",
    "for status in status_list:\n",
    "    if status in PET_STATUS_INDEX:\n",
    "        pet_ids += PET_STATUS_INDEX[status]\n",
    "pet_list = collect_pets_by_id(pet_ids)\n",
    "print_response(pet_list, content_type)"
   ]
  },
  {
   "cell_type": "markdown",
   "metadata": {},
   "source": [
    "## GET /pet/findByTags \n",
    "\n",
    "_Finds Pets by tags_\n",
    "\n",
    "Muliple tags can be provided with comma seperated strings. Use tag1, tag2, tag3 for testing. \n",
    "\n",
    "Query Parameters: \n",
    "\n",
    "* tags (required) - Tags to filter by\n",
    "\n",
    "\n"
   ]
  },
  {
   "cell_type": "code",
   "execution_count": null,
   "metadata": {
    "collapsed": true
   },
   "outputs": [],
   "source": [
    "REQUEST = json.dumps({\n",
    "        'args' : {\n",
    "            'tags' : ['cat , dog, horse']\n",
    "        }\n",
    "    })"
   ]
  },
  {
   "cell_type": "code",
   "execution_count": null,
   "metadata": {},
   "outputs": [],
   "source": [
    "# GET /pet/findByTags \n",
    "req = json.loads(REQUEST)\n",
    "tag_list = split_query_param(req['args']['tags'])\n",
    "pet_ids = []\n",
    "for tag in tag_list:\n",
    "    if tag in TAG_INDEX:\n",
    "        pet_ids += TAG_INDEX[tag]\n",
    "pet_list = collect_pets_by_id(pet_ids)\n",
    "print_response(pet_list, content_type)"
   ]
  },
  {
   "cell_type": "markdown",
   "metadata": {},
   "source": [
    "## GET /pet/:petId \n",
    "\n",
    "_Find pet by ID_\n",
    "\n",
    "Returns a single pet \n",
    "\n",
    "Path Parameters: \n",
    "\n",
    "* petId (required) - ID of pet to return\n",
    "\n",
    "\n"
   ]
  },
  {
   "cell_type": "code",
   "execution_count": null,
   "metadata": {
    "collapsed": true
   },
   "outputs": [],
   "source": [
    "REQUEST = json.dumps({\n",
    "        'path' : {\n",
    "            'petId' : 1\n",
    "        }\n",
    "    })"
   ]
  },
  {
   "cell_type": "code",
   "execution_count": null,
   "metadata": {},
   "outputs": [],
   "source": [
    "# GET /pet/:petId \n",
    "try:\n",
    "    req = json.loads(REQUEST)\n",
    "    pet_id = req['path']['petId']\n",
    "    response = get_pet_by_id(pet_id)\n",
    "except InvalidValue as e:\n",
    "    response = create_error_response(400, 'Invalid ID', e.msg)\n",
    "except NotFound as e:\n",
    "    response = create_error_response(404, 'Not Found', e.msg)    \n",
    "finally:\n",
    "    print_response(response, content_type)"
   ]
  },
  {
   "cell_type": "markdown",
   "metadata": {},
   "source": [
    "## POST /pet/:petId \n",
    "\n",
    "_Updates a pet in the store with form data_\n",
    "\n",
    "Path Parameters: \n",
    "\n",
    "* petId (required) - ID of pet that needs to be updated\n",
    "\n",
    "\n",
    "Form Parameters: \n",
    "\n",
    "* name (optional) - Updated name of the pet\n",
    "* status (optional) - Updated status of the pet\n",
    "\n",
    "\n"
   ]
  },
  {
   "cell_type": "code",
   "execution_count": null,
   "metadata": {
    "collapsed": true
   },
   "outputs": [],
   "source": [
    "REQUEST = json.dumps({\n",
    "        'path' : {\n",
    "            'petId' : 1\n",
    "        },\n",
    "        'body' : {\n",
    "            'name' : ['new name']\n",
    "        }\n",
    "    })"
   ]
  },
  {
   "cell_type": "code",
   "execution_count": null,
   "metadata": {},
   "outputs": [],
   "source": [
    "# POST /pet/:petId \n",
    "try:\n",
    "    req = json.loads(REQUEST)\n",
    "    pet_updates = req['body']\n",
    "    pet_id = req['path']['petId']\n",
    "    old_pet = get_pet_by_id(pet_id)\n",
    "    props = ['name', 'status']\n",
    "    for prop in props:\n",
    "        if prop in pet_updates:\n",
    "            old_pet[prop] = pet_updates[prop][0]\n",
    "    response = persist_pet(old_pet)\n",
    "except InvalidValue as e:\n",
    "    response = create_error_response(400, 'Invalid ID', e.msg)\n",
    "except NotFound as e:\n",
    "    response = create_error_response(404, 'Not Found', e.msg)    \n",
    "finally:\n",
    "    print_response(response, content_type)"
   ]
  },
  {
   "cell_type": "markdown",
   "metadata": {},
   "source": [
    "## DELETE /pet/:petId \n",
    "\n",
    "_Deletes a pet_\n",
    "\n",
    "Path Parameters: \n",
    "\n",
    "* petId (required) - Pet id to delete\n",
    "\n",
    "\n"
   ]
  },
  {
   "cell_type": "code",
   "execution_count": null,
   "metadata": {
    "collapsed": true
   },
   "outputs": [],
   "source": [
    "REQUEST = json.dumps({\n",
    "        'path' : {\n",
    "            'petId' : '1'\n",
    "        }\n",
    "    })"
   ]
  },
  {
   "cell_type": "code",
   "execution_count": null,
   "metadata": {},
   "outputs": [],
   "source": [
    "# DELETE /pet/:petId\n",
    "try:\n",
    "    req = json.loads(REQUEST)\n",
    "    pet_id = req['path']['petId']\n",
    "    response = delete_pet_by_id(pet_id)\n",
    "except InvalidValue as e:\n",
    "    response = create_error_response(400, 'Invalid ID', e.msg)\n",
    "except NotFound as e:\n",
    "    response = create_error_response(404, 'Not Found', e.msg)    \n",
    "finally:\n",
    "    print_response(response, content_type)"
   ]
  },
  {
   "cell_type": "markdown",
   "metadata": {},
   "source": [
    "# Store Endpoints"
   ]
  },
  {
   "cell_type": "markdown",
   "metadata": {},
   "source": [
    "## GET /store/inventory \n",
    "\n",
    "_Returns pet inventories by status_\n",
    "\n",
    "Returns a map of status codes to quantities \n",
    "\n"
   ]
  },
  {
   "cell_type": "code",
   "execution_count": null,
   "metadata": {},
   "outputs": [],
   "source": [
    "# GET /store/inventory \n",
    "status_counts = {}\n",
    "for status in ORDER_STATUS_INDEX:\n",
    "    status_counts[status] = len(set(ORDER_STATUS_INDEX[status]))\n",
    "    \n",
    "print_response(status_counts, content_type)"
   ]
  },
  {
   "cell_type": "markdown",
   "metadata": {},
   "source": [
    "## POST /store/order \n",
    "\n",
    "_Place an order for a pet_\n",
    "\n",
    "Body Parameters: \n",
    "\n",
    "* body (required) - order placed for purchasing the pet\n",
    "\n",
    "\n"
   ]
  },
  {
   "cell_type": "code",
   "execution_count": null,
   "metadata": {},
   "outputs": [],
   "source": [
    "REQUEST = json.dumps({\n",
    "        'body' : {\n",
    "            'id' : 1,\n",
    "            'petId' : 1,\n",
    "            'quantity' : 1,\n",
    "            'shipDate' : '12/30/2015',\n",
    "            'status' : 'placed',\n",
    "            'complete' : False\n",
    "        }\n",
    "    })"
   ]
  },
  {
   "cell_type": "code",
   "execution_count": null,
   "metadata": {},
   "outputs": [],
   "source": [
    "# POST /store/order \n",
    "try:\n",
    "    req = json.loads(REQUEST)\n",
    "    order = req['body']\n",
    "    persist_order(order)\n",
    "    response = order\n",
    "except MissingField as e:\n",
    "    response = create_error_response(400, 'Invalid Order', e.msg)\n",
    "except ValueError as e:\n",
    "    response = create_error_response(400, 'Invalid Order', 'Could not parse json')\n",
    "finally:\n",
    "    print_response(response, content_type)"
   ]
  },
  {
   "cell_type": "markdown",
   "metadata": {},
   "source": [
    "## GET /store/order/:orderId \n",
    "\n",
    "_Find purchase order by ID_\n",
    "\n",
    "For valid response try integer IDs with value &lt;= 5 or &gt; 10. Other values will generated exceptions \n",
    "\n",
    "Path Parameters: \n",
    "\n",
    "* orderId (required) - ID of pet that needs to be fetched\n",
    "\n",
    "\n"
   ]
  },
  {
   "cell_type": "code",
   "execution_count": null,
   "metadata": {
    "collapsed": true
   },
   "outputs": [],
   "source": [
    "REQUEST = json.dumps({\n",
    "        'path' : {\n",
    "            'orderId' : 1\n",
    "        }\n",
    "    })"
   ]
  },
  {
   "cell_type": "code",
   "execution_count": null,
   "metadata": {},
   "outputs": [],
   "source": [
    "# GET /store/order/:orderId\n",
    "try:\n",
    "    req = json.loads(REQUEST)\n",
    "    order_id = req['path']['orderId']\n",
    "    response = get_order_by_id(order_id)\n",
    "except InvalidValue as e:\n",
    "    response = create_error_response(400, 'Invalid ID', e.msg)\n",
    "except NotFound as e:\n",
    "    response = create_error_response(404, 'Not Found', e.msg)    \n",
    "finally:\n",
    "    print_response(response, content_type)"
   ]
  },
  {
   "cell_type": "markdown",
   "metadata": {},
   "source": [
    "## DELETE /store/order/:orderId \n",
    "\n",
    "_Delete purchase order by ID_\n",
    "\n",
    "For valid response try integer IDs with value &lt; 1000. Anything above 1000 or nonintegers will generate API errors \n",
    "\n",
    "Path Parameters: \n",
    "\n",
    "* orderId (required) - ID of the order that needs to be deleted\n",
    "\n",
    "\n"
   ]
  },
  {
   "cell_type": "code",
   "execution_count": null,
   "metadata": {
    "collapsed": true
   },
   "outputs": [],
   "source": [
    "REQUEST = json.dumps({\n",
    "        'path' : {\n",
    "            'orderId' : 1\n",
    "        }\n",
    "    })"
   ]
  },
  {
   "cell_type": "code",
   "execution_count": null,
   "metadata": {},
   "outputs": [],
   "source": [
    "# DELETE /store/order/:orderId \n",
    "try:\n",
    "    req = json.loads(REQUEST)\n",
    "    order_id = req['path']['orderId']\n",
    "    response = delete_order_by_id(order_id)\n",
    "except InvalidValue as e:\n",
    "    response = create_error_response(400, 'Invalid ID', e.msg)\n",
    "except NotFound as e:\n",
    "    response = create_error_response(404, 'Not Found', e.msg)    \n",
    "finally:\n",
    "    print_response(response, content_type)"
   ]
  },
  {
   "cell_type": "markdown",
   "metadata": {},
   "source": [
    "# Initialization\n",
    "Sets all stores to empty dictionaries, so when the app starts there is no initial state."
   ]
  },
  {
   "cell_type": "code",
   "execution_count": 5,
   "metadata": {},
   "outputs": [],
   "source": [
    "PETS = {}\n",
    "STATUS_INDEX = {}\n",
    "TAG_INDEX = {}\n",
    "ORDERS = {}"
   ]
  },
  {
   "cell_type": "code",
   "execution_count": 7,
   "metadata": {},
   "outputs": [
    {
     "name": "stdout",
     "output_type": "stream",
     "text": [
      "Yolo\n"
     ]
    }
   ],
   "source": [
    "print(\"Yolo\")"
   ]
  },
  {
   "cell_type": "code",
   "execution_count": 8,
   "metadata": {},
   "outputs": [
    {
     "name": "stdout",
     "output_type": "stream",
     "text": [
      "Yolo\n"
     ]
    }
   ],
   "source": [
    "print(\"Yolo\")"
   ]
  },
  {
   "cell_type": "code",
   "execution_count": null,
   "metadata": {},
   "outputs": [],
   "source": []
  }
 ],
 "metadata": {
  "kernelspec": {
   "display_name": "Python 3 (ipykernel)",
   "language": "python",
   "name": "python3"
  },
  "language_info": {
   "codemirror_mode": {
    "name": "ipython",
    "version": 3
   },
   "file_extension": ".py",
   "mimetype": "text/x-python",
   "name": "python",
   "nbconvert_exporter": "python",
   "pygments_lexer": "ipython3",
   "version": "3.10.0"
  }
 },
 "nbformat": 4,
 "nbformat_minor": 1
}
